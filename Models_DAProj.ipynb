{
  "nbformat": 4,
  "nbformat_minor": 0,
  "metadata": {
    "colab": {
      "name": "Models_DAProj.ipynb",
      "provenance": [],
      "authorship_tag": "ABX9TyNAh/urMdb/m5DNIkbPJ2yd",
      "include_colab_link": true
    },
    "kernelspec": {
      "name": "python3",
      "display_name": "Python 3"
    },
    "language_info": {
      "name": "python"
    }
  },
  "cells": [
    {
      "cell_type": "markdown",
      "metadata": {
        "id": "view-in-github",
        "colab_type": "text"
      },
      "source": [
        "<a href=\"https://colab.research.google.com/github/kr1k-boop/DA-Project/blob/main/Models_DAProj.ipynb\" target=\"_parent\"><img src=\"https://colab.research.google.com/assets/colab-badge.svg\" alt=\"Open In Colab\"/></a>"
      ]
    },
    {
      "cell_type": "markdown",
      "metadata": {
        "id": "bS_TCS3_JdDR"
      },
      "source": [
        "### Importing Libraries"
      ]
    },
    {
      "cell_type": "code",
      "metadata": {
        "id": "gzCR6YG1JjN2"
      },
      "source": [
        ""
      ],
      "execution_count": null,
      "outputs": []
    },
    {
      "cell_type": "markdown",
      "metadata": {
        "id": "31eg9tVNJk4H"
      },
      "source": [
        "### Load Dataset"
      ]
    },
    {
      "cell_type": "code",
      "metadata": {
        "id": "7p4FHRniJnw0"
      },
      "source": [
        ""
      ],
      "execution_count": null,
      "outputs": []
    },
    {
      "cell_type": "markdown",
      "metadata": {
        "id": "dHmVRdofJ1iv"
      },
      "source": [
        "### Regression with OLS"
      ]
    },
    {
      "cell_type": "markdown",
      "metadata": {
        "id": "rRHZ4UbeJ44Z"
      },
      "source": [
        "#### All Variables"
      ]
    },
    {
      "cell_type": "code",
      "metadata": {
        "id": "Rj9a65fbKDqN"
      },
      "source": [
        ""
      ],
      "execution_count": null,
      "outputs": []
    },
    {
      "cell_type": "markdown",
      "metadata": {
        "id": "JKP73lleKEmV"
      },
      "source": [
        "#### Lasso"
      ]
    },
    {
      "cell_type": "code",
      "metadata": {
        "id": "1opflBb7KGVZ"
      },
      "source": [
        ""
      ],
      "execution_count": null,
      "outputs": []
    },
    {
      "cell_type": "markdown",
      "metadata": {
        "id": "3pGps-4tKG_u"
      },
      "source": [
        "#### Ridge"
      ]
    },
    {
      "cell_type": "code",
      "metadata": {
        "id": "2LHmG5YHKIu8"
      },
      "source": [
        ""
      ],
      "execution_count": null,
      "outputs": []
    },
    {
      "cell_type": "markdown",
      "metadata": {
        "id": "GZjsOPJ3KKC7"
      },
      "source": [
        "#### Analysis of Performance"
      ]
    },
    {
      "cell_type": "code",
      "metadata": {
        "id": "Ih_tjsMEKQf7"
      },
      "source": [
        ""
      ],
      "execution_count": null,
      "outputs": []
    },
    {
      "cell_type": "markdown",
      "metadata": {
        "id": "QpBiFHxCKRFk"
      },
      "source": [
        "#### Analysis of Best Performing Regression Model"
      ]
    },
    {
      "cell_type": "markdown",
      "metadata": {
        "id": "o10GkIvsKXG0"
      },
      "source": [
        "### Benchmark Models (for comparison)"
      ]
    }
  ]
}